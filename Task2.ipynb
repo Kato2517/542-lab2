{
 "cells": [
  {
   "cell_type": "markdown",
   "id": "b173a884-dfe1-4928-8c64-eb3cce5e4658",
   "metadata": {},
   "source": [
    "# Task 2: Mind the gap\n",
    "---"
   ]
  },
  {
   "cell_type": "markdown",
   "id": "6cd0a96d-12c6-4afd-b2d2-2d177d5e4b20",
   "metadata": {},
   "source": [
    "In this exercise, we'll practice some basic Pandas operations on the [Gapminder dataset](https://www.gapminder.org/about/). Gapminder is an educational foundation that aims to use data to unbiasedly describe trends in health and socioeconomics; it is a great source of geographical, socioeconomic, and health data - a subset of which we'll be exploring here. In particular, we'll be exploring a dataframe of the following features in this exercise:\n",
    "\n",
    "|     | country     | continent | year | lifeExp | pop      | gdpPercap  |\n",
    "|:---:|:-----------:|:---------:|:----:|:-------:|:--------:|:----------:|\n",
    "|  0  | Afghanistan | Asia      | 1952 | 28.801  | 8425333  | 779.445314 |\n",
    "|  1  | Afghanistan | Asia      | 1957 | 30.332  | 9240934  | 820.853030 |\n",
    "|  2  | Afghanistan | Asia      | 1962 | 31.997  | 10267083 | 853.100710 |\n",
    "|  3  | Afghanistan | Asia      | 1967 | 34.020  | 11537966 | 836.197138 |\n",
    "|  4  | Afghanistan | Asia      | 1972 | 36.088  | 13079460 | 739.981106 |\n",
    "| ... |     ...     |    ...    | ...  |   ...   |   ...    |    ...     |"
   ]
  },
  {
   "cell_type": "code",
   "execution_count": 2,
   "id": "45d90b50-8156-4792-9af8-b11773f6889b",
   "metadata": {},
   "outputs": [],
   "source": [
    "import pandas as pd"
   ]
  },
  {
   "cell_type": "markdown",
   "id": "6cb019d2-b572-434d-a854-969c937cf934",
   "metadata": {},
   "source": [
    "## 2.1"
   ]
  },
  {
   "cell_type": "markdown",
   "id": "35f3f1e6-4877-4a5e-90c9-a86807d3a09a",
   "metadata": {},
   "source": [
    "Read the gapminder dataset into a dataframe called `df` from this url: <https://raw.githubusercontent.com/jstaf/gapminder/master/gapminder/gapminder.csv>"
   ]
  },
  {
   "cell_type": "code",
   "execution_count": 4,
   "id": "f192b3c0-ddce-464e-8405-d9b60698133e",
   "metadata": {},
   "outputs": [
    {
     "data": {
      "text/html": [
       "<div>\n",
       "<style scoped>\n",
       "    .dataframe tbody tr th:only-of-type {\n",
       "        vertical-align: middle;\n",
       "    }\n",
       "\n",
       "    .dataframe tbody tr th {\n",
       "        vertical-align: top;\n",
       "    }\n",
       "\n",
       "    .dataframe thead th {\n",
       "        text-align: right;\n",
       "    }\n",
       "</style>\n",
       "<table border=\"1\" class=\"dataframe\">\n",
       "  <thead>\n",
       "    <tr style=\"text-align: right;\">\n",
       "      <th></th>\n",
       "      <th>country</th>\n",
       "      <th>continent</th>\n",
       "      <th>year</th>\n",
       "      <th>lifeExp</th>\n",
       "      <th>pop</th>\n",
       "      <th>gdpPercap</th>\n",
       "    </tr>\n",
       "  </thead>\n",
       "  <tbody>\n",
       "    <tr>\n",
       "      <th>0</th>\n",
       "      <td>Afghanistan</td>\n",
       "      <td>Asia</td>\n",
       "      <td>1952</td>\n",
       "      <td>28.801</td>\n",
       "      <td>8425333</td>\n",
       "      <td>779.445314</td>\n",
       "    </tr>\n",
       "    <tr>\n",
       "      <th>1</th>\n",
       "      <td>Afghanistan</td>\n",
       "      <td>Asia</td>\n",
       "      <td>1957</td>\n",
       "      <td>30.332</td>\n",
       "      <td>9240934</td>\n",
       "      <td>820.853030</td>\n",
       "    </tr>\n",
       "    <tr>\n",
       "      <th>2</th>\n",
       "      <td>Afghanistan</td>\n",
       "      <td>Asia</td>\n",
       "      <td>1962</td>\n",
       "      <td>31.997</td>\n",
       "      <td>10267083</td>\n",
       "      <td>853.100710</td>\n",
       "    </tr>\n",
       "    <tr>\n",
       "      <th>3</th>\n",
       "      <td>Afghanistan</td>\n",
       "      <td>Asia</td>\n",
       "      <td>1967</td>\n",
       "      <td>34.020</td>\n",
       "      <td>11537966</td>\n",
       "      <td>836.197138</td>\n",
       "    </tr>\n",
       "    <tr>\n",
       "      <th>4</th>\n",
       "      <td>Afghanistan</td>\n",
       "      <td>Asia</td>\n",
       "      <td>1972</td>\n",
       "      <td>36.088</td>\n",
       "      <td>13079460</td>\n",
       "      <td>739.981106</td>\n",
       "    </tr>\n",
       "    <tr>\n",
       "      <th>...</th>\n",
       "      <td>...</td>\n",
       "      <td>...</td>\n",
       "      <td>...</td>\n",
       "      <td>...</td>\n",
       "      <td>...</td>\n",
       "      <td>...</td>\n",
       "    </tr>\n",
       "    <tr>\n",
       "      <th>1699</th>\n",
       "      <td>Zimbabwe</td>\n",
       "      <td>Africa</td>\n",
       "      <td>1987</td>\n",
       "      <td>62.351</td>\n",
       "      <td>9216418</td>\n",
       "      <td>706.157306</td>\n",
       "    </tr>\n",
       "    <tr>\n",
       "      <th>1700</th>\n",
       "      <td>Zimbabwe</td>\n",
       "      <td>Africa</td>\n",
       "      <td>1992</td>\n",
       "      <td>60.377</td>\n",
       "      <td>10704340</td>\n",
       "      <td>693.420786</td>\n",
       "    </tr>\n",
       "    <tr>\n",
       "      <th>1701</th>\n",
       "      <td>Zimbabwe</td>\n",
       "      <td>Africa</td>\n",
       "      <td>1997</td>\n",
       "      <td>46.809</td>\n",
       "      <td>11404948</td>\n",
       "      <td>792.449960</td>\n",
       "    </tr>\n",
       "    <tr>\n",
       "      <th>1702</th>\n",
       "      <td>Zimbabwe</td>\n",
       "      <td>Africa</td>\n",
       "      <td>2002</td>\n",
       "      <td>39.989</td>\n",
       "      <td>11926563</td>\n",
       "      <td>672.038623</td>\n",
       "    </tr>\n",
       "    <tr>\n",
       "      <th>1703</th>\n",
       "      <td>Zimbabwe</td>\n",
       "      <td>Africa</td>\n",
       "      <td>2007</td>\n",
       "      <td>43.487</td>\n",
       "      <td>12311143</td>\n",
       "      <td>469.709298</td>\n",
       "    </tr>\n",
       "  </tbody>\n",
       "</table>\n",
       "<p>1704 rows × 6 columns</p>\n",
       "</div>"
      ],
      "text/plain": [
       "          country continent  year  lifeExp       pop   gdpPercap\n",
       "0     Afghanistan      Asia  1952   28.801   8425333  779.445314\n",
       "1     Afghanistan      Asia  1957   30.332   9240934  820.853030\n",
       "2     Afghanistan      Asia  1962   31.997  10267083  853.100710\n",
       "3     Afghanistan      Asia  1967   34.020  11537966  836.197138\n",
       "4     Afghanistan      Asia  1972   36.088  13079460  739.981106\n",
       "...           ...       ...   ...      ...       ...         ...\n",
       "1699     Zimbabwe    Africa  1987   62.351   9216418  706.157306\n",
       "1700     Zimbabwe    Africa  1992   60.377  10704340  693.420786\n",
       "1701     Zimbabwe    Africa  1997   46.809  11404948  792.449960\n",
       "1702     Zimbabwe    Africa  2002   39.989  11926563  672.038623\n",
       "1703     Zimbabwe    Africa  2007   43.487  12311143  469.709298\n",
       "\n",
       "[1704 rows x 6 columns]"
      ]
     },
     "execution_count": 4,
     "metadata": {},
     "output_type": "execute_result"
    }
   ],
   "source": [
    "# Your solution here\n",
    "data=pd.read_csv('https://raw.githubusercontent.com/jstaf/gapminder/master/gapminder/gapminder.csv')\n",
    "data"
   ]
  },
  {
   "cell_type": "markdown",
   "id": "0816e8a6-2bf3-4c60-b993-e0077b7deb0f",
   "metadata": {},
   "source": [
    "## 2.2"
   ]
  },
  {
   "cell_type": "markdown",
   "id": "e47dd937-fb42-4d21-9d3e-6894728c03f3",
   "metadata": {},
   "source": [
    "Which continent has the most observations in the gapminder dataset? You can leave your answer as the output of a dataframe operation (*hint*: `.value_counts()`)."
   ]
  },
  {
   "cell_type": "code",
   "execution_count": 5,
   "id": "0d740a88-4647-435b-8945-c83513ca30de",
   "metadata": {},
   "outputs": [
    {
     "name": "stdout",
     "output_type": "stream",
     "text": [
      "Africa      624\n",
      "Asia        396\n",
      "Europe      360\n",
      "Americas    300\n",
      "Oceania      24\n",
      "Name: continent, dtype: int64\n",
      "The most one is Africa\n"
     ]
    }
   ],
   "source": [
    "# Your solution here\n",
    "counts=data[\"continent\"].value_counts()\n",
    "print(counts)\n",
    "print(\"The most one is\", counts.idxmax())"
   ]
  },
  {
   "cell_type": "markdown",
   "id": "9304a590-548a-4c76-a1bc-e2b1f099c69d",
   "metadata": {},
   "source": [
    "## 2.3"
   ]
  },
  {
   "cell_type": "markdown",
   "id": "9bcb0ed5-d18d-45c3-9b2c-d82c9c35b389",
   "metadata": {},
   "source": [
    "What are the minimum and maximum life expectancies in the dataset, and what are the corresponding countries and the years? (*hint*: `.argmin()`/`.argmax()`)"
   ]
  },
  {
   "cell_type": "code",
   "execution_count": 6,
   "id": "8fe61181-61f4-40d8-af5f-7a55322813eb",
   "metadata": {},
   "outputs": [
    {
     "name": "stdout",
     "output_type": "stream",
     "text": [
      "Minimum Life Expectancy:\n",
      "country          Rwanda\n",
      "continent        Africa\n",
      "year               1992\n",
      "lifeExp          23.599\n",
      "pop             7290203\n",
      "gdpPercap    737.068595\n",
      "Name: 1292, dtype: object\n",
      "\n",
      "Maximum Life Expectancy:\n",
      "country            Japan\n",
      "continent           Asia\n",
      "year                2007\n",
      "lifeExp           82.603\n",
      "pop            127467972\n",
      "gdpPercap    31656.06806\n",
      "Name: 803, dtype: object\n"
     ]
    }
   ],
   "source": [
    "# Your solution here\n",
    "min_lifeExp_index = df['lifeExp'].idxmin()\n",
    "max_lifeExp_index = df['lifeExp'].idxmax()\n",
    "\n",
    "\n",
    "\n",
    "# Retrieve the rows with the minimum and maximum life expectancies\n",
    "min_lifeExp_row = df.loc[min_lifeExp_index]\n",
    "max_lifeExp_row = df.loc[max_lifeExp_index]\n",
    "\n",
    "# Display the results\n",
    "print(f\"Minimum Life Expectancy:\\n{min_lifeExp_row}\\n\")\n",
    "print(f\"Maximum Life Expectancy:\\n{max_lifeExp_row}\")"
   ]
  },
  {
   "cell_type": "code",
   "execution_count": 7,
   "id": "d019157e",
   "metadata": {},
   "outputs": [
    {
     "name": "stdout",
     "output_type": "stream",
     "text": [
      "Minimum Life Expectancy:\n",
      "country          Rwanda\n",
      "continent        Africa\n",
      "year               1992\n",
      "lifeExp          23.599\n",
      "pop             7290203\n",
      "gdpPercap    737.068595\n",
      "Name: 1292, dtype: object\n",
      "\n",
      "Maximum Life Expectancy:\n",
      "country            Japan\n",
      "continent           Asia\n",
      "year                2007\n",
      "lifeExp           82.603\n",
      "pop            127467972\n",
      "gdpPercap    31656.06806\n",
      "Name: 803, dtype: object\n"
     ]
    }
   ],
   "source": [
    "min_lifeExp_index = df['lifeExp'].argmin()\n",
    "max_lifeExp_index = df['lifeExp'].argmax()\n",
    "\n",
    "min_lifeExp_row = df.loc[min_lifeExp_index]\n",
    "max_lifeExp_row = df.loc[max_lifeExp_index]\n",
    "\n",
    "# Display the results\n",
    "print(f\"Minimum Life Expectancy:\\n{min_lifeExp_row}\\n\")\n",
    "print(f\"Maximum Life Expectancy:\\n{max_lifeExp_row}\")"
   ]
  },
  {
   "cell_type": "markdown",
   "id": "d432b2d3-a419-4d2e-9f63-6c6b5be31ee8",
   "metadata": {},
   "source": [
    "## 2.4"
   ]
  },
  {
   "cell_type": "markdown",
   "id": "1cb9281b-09a2-4108-91c9-2a79bf5e3498",
   "metadata": {},
   "source": [
    "How much larger is the total population in this dataset in 2007 compared to 1952? You can give you answer as a float, e.g., \"the population is 1.8 times larger in 2007 than in 1952.\" (*hint*: you can use `.query()` to subset the dataframe for 1952 and then calculate the `.sum()` of the population, then repeat for 2007)."
   ]
  },
  {
   "cell_type": "code",
   "execution_count": 8,
   "id": "6dde019b-11de-403c-ba3c-d95f7dbcc07d",
   "metadata": {},
   "outputs": [
    {
     "name": "stdout",
     "output_type": "stream",
     "text": [
      "The population is 2.6 times larger in 2007 than in 1952.\n"
     ]
    }
   ],
   "source": [
    "# Your solution here\n",
    "population_1952 = df.query('year == 1952')['pop'].sum()\n",
    "\n",
    "\n",
    "population_2007 = df.query('year == 2007')['pop'].sum()\n",
    "\n",
    "\n",
    "population_ratio = population_2007 / population_1952\n",
    "\n",
    "print(f\"The population is {population_ratio:.1f} times larger in 2007 than in 1952.\")"
   ]
  },
  {
   "cell_type": "markdown",
   "id": "945c5306-9c85-4342-bfe4-dae32f899133",
   "metadata": {},
   "source": [
    "## 2.5"
   ]
  },
  {
   "cell_type": "markdown",
   "id": "a8e571e1-8546-4a5d-a90a-350f9a310c71",
   "metadata": {},
   "source": [
    "What is the mean life expectancy of countries with the highest 50% of `gdpPercap` and countries with the lowest 50% of `gdpPercap`? (*hint*: try combining `.query()` and `.median()`)"
   ]
  },
  {
   "cell_type": "code",
   "execution_count": 9,
   "id": "a6e84a68-9b54-4168-91e6-aae103850d07",
   "metadata": {},
   "outputs": [
    {
     "name": "stdout",
     "output_type": "stream",
     "text": [
      "Mean life expectancy for countries with the highest 50% of GDP per capita: 68.93\n",
      "Mean life expectancy for countries with the lowest 50% of GDP per capita: 50.02\n"
     ]
    }
   ],
   "source": [
    "# Your solution here\n",
    "median_gdpPercap = df['gdpPercap'].median()\n",
    "\n",
    "\n",
    "mean_lifeExp_high_gdp = df.query('gdpPercap > @median_gdpPercap')['lifeExp'].mean()\n",
    "\n",
    "\n",
    "mean_lifeExp_low_gdp = df.query('gdpPercap <= @median_gdpPercap')['lifeExp'].mean()\n",
    "\n",
    "\n",
    "print(f\"Mean life expectancy for countries with the highest 50% of GDP per capita: {mean_lifeExp_high_gdp:.2f}\")\n",
    "print(f\"Mean life expectancy for countries with the lowest 50% of GDP per capita: {mean_lifeExp_low_gdp:.2f}\")\n"
   ]
  },
  {
   "cell_type": "code",
   "execution_count": null,
   "id": "b930abaa",
   "metadata": {},
   "outputs": [],
   "source": []
  }
 ],
 "metadata": {
  "kernelspec": {
   "display_name": "Python 3 (ipykernel)",
   "language": "python",
   "name": "python3"
  },
  "language_info": {
   "codemirror_mode": {
    "name": "ipython",
    "version": 3
   },
   "file_extension": ".py",
   "mimetype": "text/x-python",
   "name": "python",
   "nbconvert_exporter": "python",
   "pygments_lexer": "ipython3",
   "version": "3.11.4"
  }
 },
 "nbformat": 4,
 "nbformat_minor": 5
}
