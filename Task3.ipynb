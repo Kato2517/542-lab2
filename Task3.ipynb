{
 "cells": [
  {
   "cell_type": "markdown",
   "id": "053b7c65-9742-4cf0-b691-00183105e565",
   "metadata": {
    "tags": []
   },
   "source": [
    "# Task 3\n",
    "---"
   ]
  },
  {
   "cell_type": "markdown",
   "id": "fade4d55-5c8b-4a7b-8376-7321f545c311",
   "metadata": {
    "nbgrader": {
     "grade": false,
     "grade_id": "cell-6cd0b7f72a4c69db",
     "locked": true,
     "schema_version": 3,
     "solution": false,
     "task": false
    }
   },
   "source": [
    "In Task 2, you performed some basic Pandas operations on the Gapminder dataset. However, this dataset was given to you clean and shiny and ready-to-go. In the real world, that's rarely the case, and in this exercise you'll have to clean up a \"dirty\" version of the Gapminder dataset.\n",
    "\n",
    "Your goal is to load in \"dirty Gapminder\" as a dataframe called `dirty` and \"clean Gapminder\" as a dataframe called `clean`, and wrangle `dirty` until it is the same as `clean`:\n",
    "- [Dirty Gapminder](https://raw.githubusercontent.com/STAT545-UBC/STAT545-UBC.github.io/master/gapminderDataFiveYear_dirty.txt)\n",
    "- [Clean Gapminder](https://raw.githubusercontent.com/STAT545-UBC/STAT545-UBC.github.io/master/gapminderDataFiveYear.txt)\n",
    "\n",
    "A test has been provided to check that `dirty` is the same as `clean`. Things you might want to do to clean up `dirty`:\n",
    "\n",
    "- Check that `dirty` and `clean` have the same columns;\n",
    "- Check if there is any missing data, if there is missing data (NaNs or empty strings) fill them with sensible values;\n",
    "- Check for things like capitalization, spelling, etc;\n",
    "- There may be entries that appear to have the exact same spelling and capitalization in both `dirty` and `clean`, but still don't match... Extra whitespace is often a frustrating (and invisible) problem when wrangling text data. You can use `Series.str.strip()` to trim any additional unwanted whitespace around a string.\n",
    "- At any time, you can check which rows in `dirty` are not equal to `clean` using something like: `dirty[dirty.ne(clean).any(axis=1)]`."
   ]
  },
  {
   "cell_type": "code",
   "execution_count": 2,
   "id": "e84b1d34-d91b-4fc0-8b68-683ae39372a8",
   "metadata": {},
   "outputs": [],
   "source": [
    "# Your solution here\n",
    "import pandas as pd\n",
    "dirty_df=pd.read_csv('gapminderDataFiveYear_dirty.txt', sep='\\t')\n",
    "clean_df=pd.read_csv('gapminderDataFiveYear.txt',sep='\\t')"
   ]
  },
  {
   "cell_type": "code",
   "execution_count": 3,
   "id": "be175289",
   "metadata": {},
   "outputs": [],
   "source": [
    "dirty_df[['continent','country']]=dirty_df['region'].str.split('_',expand=True)"
   ]
  },
  {
   "cell_type": "code",
   "execution_count": 4,
   "id": "66326156",
   "metadata": {},
   "outputs": [
    {
     "name": "stdout",
     "output_type": "stream",
     "text": [
      "          country  year         pop continent  lifeExp   gdpPercap\n",
      "0     Afghanistan  1952   8425333.0      Asia   28.801  779.445314\n",
      "1     Afghanistan  1957   9240934.0      Asia   30.332  820.853030\n",
      "2     Afghanistan  1962  10267083.0      Asia   31.997  853.100710\n",
      "3     Afghanistan  1967  11537966.0      Asia   34.020  836.197138\n",
      "4     Afghanistan  1972  13079460.0      Asia   36.088  739.981106\n",
      "...           ...   ...         ...       ...      ...         ...\n",
      "1699     Zimbabwe  1987   9216418.0    Africa   62.351  706.157306\n",
      "1700     Zimbabwe  1992  10704340.0    Africa   60.377  693.420786\n",
      "1701     Zimbabwe  1997  11404948.0    Africa   46.809  792.449960\n",
      "1702     Zimbabwe  2002  11926563.0    Africa   39.989  672.038623\n",
      "1703     Zimbabwe  2007  12311143.0    Africa   43.487  469.709298\n",
      "\n",
      "[1704 rows x 6 columns]\n",
      "Index(['country', 'year', 'pop', 'continent', 'lifeExp', 'gdpPercap'], dtype='object')\n",
      "Index(['country', 'year', 'pop', 'continent', 'lifeExp', 'gdpPercap'], dtype='object')\n"
     ]
    }
   ],
   "source": [
    "new_order = ['country', 'year', 'pop','continent','lifeExp', 'gdpPercap']\n",
    "dirty_df = dirty_df[new_order]\n",
    "print(dirty_df)\n",
    "print(dirty_df.columns)\n",
    "print(clean_df.columns)#test their cols"
   ]
  },
  {
   "cell_type": "code",
   "execution_count": 5,
   "id": "f4567d27",
   "metadata": {},
   "outputs": [
    {
     "name": "stdout",
     "output_type": "stream",
     "text": [
      "NaNs in dirty_df:\n",
      " country      0\n",
      "year         0\n",
      "pop          0\n",
      "continent    0\n",
      "lifeExp      0\n",
      "gdpPercap    0\n",
      "dtype: int64\n",
      "NaNs in clean_df:\n",
      " country      0\n",
      "year         0\n",
      "pop          0\n",
      "continent    0\n",
      "lifeExp      0\n",
      "gdpPercap    0\n",
      "dtype: int64\n",
      "Empty strings in dirty_df:\n",
      " country      0\n",
      "year         0\n",
      "pop          0\n",
      "continent    3\n",
      "lifeExp      0\n",
      "gdpPercap    0\n",
      "dtype: int64\n",
      "Empty strings in clean_df:\n",
      " country      0\n",
      "year         0\n",
      "pop          0\n",
      "continent    0\n",
      "lifeExp      0\n",
      "gdpPercap    0\n",
      "dtype: int64\n"
     ]
    }
   ],
   "source": [
    "nan_in_dirty = dirty_df.isna().sum()\n",
    "nan_in_clean = clean_df.isna().sum()\n",
    "\n",
    "# Check for empty strings\n",
    "empty_in_dirty = (dirty_df == '').sum()\n",
    "empty_in_clean = (clean_df == '').sum()\n",
    "\n",
    "print(\"NaNs in dirty_df:\\n\", nan_in_dirty)\n",
    "print(\"NaNs in clean_df:\\n\", nan_in_clean)\n",
    "print(\"Empty strings in dirty_df:\\n\", empty_in_dirty)\n",
    "print(\"Empty strings in clean_df:\\n\", empty_in_clean)"
   ]
  },
  {
   "cell_type": "code",
   "execution_count": 6,
   "id": "fa639180",
   "metadata": {},
   "outputs": [],
   "source": [
    "dirty_df1=dirty_df.copy()\n",
    "for column in dirty_df1.columns:\n",
    "    if dirty_df1[column].dtype == 'float64' or dirty_df1[column].dtype == 'int64':\n",
    "       \n",
    "        dirty_df1[column].fillna(dirty_df1[column].median(), inplace=True)\n",
    "    else:\n",
    "       \n",
    "        dirty_df1[column].fillna(dirty_df1[column].mode()[0], inplace=True)\n",
    "\n",
    "    \n",
    "    if dirty_df1[column].dtype == 'object':\n",
    "        dirty_df1[column].replace('', dirty_df1[column].mode()[0], inplace=True)\n"
   ]
  },
  {
   "cell_type": "code",
   "execution_count": 7,
   "id": "a01ce2d0",
   "metadata": {},
   "outputs": [
    {
     "name": "stdout",
     "output_type": "stream",
     "text": [
      "NaNs in dirty_df:\n",
      " country      0\n",
      "year         0\n",
      "pop          0\n",
      "continent    0\n",
      "lifeExp      0\n",
      "gdpPercap    0\n",
      "dtype: int64\n",
      "NaNs in clean_df:\n",
      " country      0\n",
      "year         0\n",
      "pop          0\n",
      "continent    0\n",
      "lifeExp      0\n",
      "gdpPercap    0\n",
      "dtype: int64\n",
      "Empty strings in dirty_df:\n",
      " country      0\n",
      "year         0\n",
      "pop          0\n",
      "continent    0\n",
      "lifeExp      0\n",
      "gdpPercap    0\n",
      "dtype: int64\n",
      "Empty strings in clean_df:\n",
      " country      0\n",
      "year         0\n",
      "pop          0\n",
      "continent    0\n",
      "lifeExp      0\n",
      "gdpPercap    0\n",
      "dtype: int64\n"
     ]
    }
   ],
   "source": [
    "#test Again\n",
    "nan_in_dirty = dirty_df1.isna().sum()\n",
    "nan_in_clean = clean_df.isna().sum()\n",
    "\n",
    "# Check for empty strings\n",
    "empty_in_dirty = (dirty_df1 == '').sum()\n",
    "empty_in_clean = (clean_df == '').sum()\n",
    "\n",
    "print(\"NaNs in dirty_df:\\n\", nan_in_dirty)\n",
    "print(\"NaNs in clean_df:\\n\", nan_in_clean)\n",
    "print(\"Empty strings in dirty_df:\\n\", empty_in_dirty)\n",
    "print(\"Empty strings in clean_df:\\n\", empty_in_clean)"
   ]
  },
  {
   "cell_type": "code",
   "execution_count": 8,
   "id": "a277ab35",
   "metadata": {},
   "outputs": [
    {
     "data": {
      "text/plain": [
       "0       Afghanistan\n",
       "1       Afghanistan\n",
       "2       Afghanistan\n",
       "3       Afghanistan\n",
       "4       Afghanistan\n",
       "           ...     \n",
       "1699       Zimbabwe\n",
       "1700       Zimbabwe\n",
       "1701       Zimbabwe\n",
       "1702       Zimbabwe\n",
       "1703       Zimbabwe\n",
       "Name: country, Length: 1704, dtype: object"
      ]
     },
     "execution_count": 8,
     "metadata": {},
     "output_type": "execute_result"
    }
   ],
   "source": [
    "dirty_df=dirty_df1\n",
    "dirty_df['country'] = dirty_df['country'].apply(lambda x: x[0].upper() + x[1:] if x else x)\n",
    "dirty_df['country']"
   ]
  },
  {
   "cell_type": "code",
   "execution_count": 9,
   "id": "9259e4be",
   "metadata": {},
   "outputs": [
    {
     "data": {
      "text/plain": [
       "0         Asia\n",
       "1         Asia\n",
       "2         Asia\n",
       "3         Asia\n",
       "4         Asia\n",
       "         ...  \n",
       "1699    Africa\n",
       "1700    Africa\n",
       "1701    Africa\n",
       "1702    Africa\n",
       "1703    Africa\n",
       "Name: continent, Length: 1704, dtype: object"
      ]
     },
     "execution_count": 9,
     "metadata": {},
     "output_type": "execute_result"
    }
   ],
   "source": [
    "dirty_df['continent'] = dirty_df['continent'].apply(lambda x: x[0].upper() + x[1:] if x else x)\n",
    "dirty_df['continent']"
   ]
  },
  {
   "cell_type": "code",
   "execution_count": 10,
   "id": "5c1bb251",
   "metadata": {},
   "outputs": [],
   "source": [
    "unique_countries_clean = set(clean_df['country'].unique())\n",
    "unique_continents_clean = set(clean_df['continent'].unique())\n",
    "\n",
    "unique_countries_dirty = set(dirty_df['country'].unique())\n",
    "unique_continents_dirty = set(dirty_df['continent'].unique())\n",
    "diff_countries = unique_countries_dirty.difference(unique_countries_clean)\n",
    "\n",
    "diff_continents = unique_continents_dirty.difference(unique_continents_clean)\n",
    "\n",
    "print(\"Differences in country spellings:\", diff_countries)\n",
    "print(\"Differences in continent spellings:\", diff_continents)"
   ]
  },
  {
   "cell_type": "code",
   "execution_count": 11,
   "id": "6eae38b2",
   "metadata": {},
   "outputs": [
    {
     "name": "stdout",
     "output_type": "stream",
     "text": [
      "Differences in country spellings: {\"Cote d'Ivore\", 'Central african republic', 'Democratic Republic of the Congo', 'Congo, Democratic Republic'}\n",
      "Differences in continent spellings: set()\n"
     ]
    }
   ],
   "source": [
    "dirty_df['country'] = dirty_df['country'].str.strip()\n",
    "dirty_df['continent'] = dirty_df['continent'].str.strip()\n",
    "\n",
    "# Do the same for clean_df\n",
    "clean_df['country'] = clean_df['country'].str.strip()\n",
    "clean_df['continent'] = clean_df['continent'].str.strip()\n",
    "\n",
    "unique_countries_clean = set(clean_df['country'].unique())\n",
    "unique_continents_clean = set(clean_df['continent'].unique())\n",
    "unique_countries_dirty = set(dirty_df['country'].unique())\n",
    "unique_continents_dirty = set(dirty_df['continent'].unique())\n",
    "diff_countries = unique_countries_dirty.difference(unique_countries_clean)\n",
    "diff_continents = unique_continents_dirty.difference(unique_continents_clean)\n",
    "print(\"Differences in country spellings:\", diff_countries)\n",
    "print(\"Differences in continent spellings:\", diff_continents)"
   ]
  },
  {
   "cell_type": "code",
   "execution_count": 12,
   "id": "d0d239e6",
   "metadata": {},
   "outputs": [
    {
     "name": "stdout",
     "output_type": "stream",
     "text": [
      "Differences in country spellings: set()\n",
      "Differences in continent spellings: set()\n"
     ]
    }
   ],
   "source": [
    "dirty_df['country'] = dirty_df['country'].replace('Democratic Republic of the Congo', 'Dominican Republic')\n",
    "dirty_df['country'] = dirty_df['country'].replace('Congo, Democratic Republic', 'Dominican Republic')\n",
    "\n",
    "#Solve the capitalization problem, set 'Central african republic' to 'Central African republic' with the capitalized A\n",
    "dirty_df['country'] = dirty_df['country'].replace('Central african republic', 'Central African Republic')\n",
    "dirty_df['country'] = dirty_df['country'].replace('Central African republic', 'Central African Republic')\n",
    "\n",
    "dirty_df['country'] = dirty_df['country'].replace(\"Cote d'Ivore\", \"Cote d'Ivoire\")\n",
    "\n",
    "unique_countries_clean = set(clean_df['country'].unique())\n",
    "unique_continents_clean = set(clean_df['continent'].unique())\n",
    "unique_countries_dirty = set(dirty_df['country'].unique())\n",
    "unique_continents_dirty = set(dirty_df['continent'].unique())\n",
    "diff_countries = unique_countries_dirty.difference(unique_countries_clean)\n",
    "diff_continents = unique_continents_dirty.difference(unique_continents_clean)\n",
    "print(\"Differences in country spellings:\", diff_countries)\n",
    "print(\"Differences in continent spellings:\", diff_continents)"
   ]
  },
  {
   "cell_type": "code",
   "execution_count": null,
   "id": "c55f2971",
   "metadata": {},
   "outputs": [],
   "source": []
  }
 ],
 "metadata": {
  "kernelspec": {
   "display_name": "Python 3 (ipykernel)",
   "language": "python",
   "name": "python3"
  },
  "language_info": {
   "codemirror_mode": {
    "name": "ipython",
    "version": 3
   },
   "file_extension": ".py",
   "mimetype": "text/x-python",
   "name": "python",
   "nbconvert_exporter": "python",
   "pygments_lexer": "ipython3",
   "version": "3.11.4"
  }
 },
 "nbformat": 4,
 "nbformat_minor": 5
}
